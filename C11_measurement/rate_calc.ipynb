{
 "cells": [
  {
   "cell_type": "markdown",
   "id": "c58ac5cb",
   "metadata": {},
   "source": [
    "# Notebook for C11 Rate Calculation and Uncertainty"
   ]
  },
  {
   "cell_type": "code",
   "execution_count": 1,
   "id": "50b5edd1",
   "metadata": {},
   "outputs": [],
   "source": [
    "import numpy as np"
   ]
  },
  {
   "cell_type": "code",
   "execution_count": 2,
   "id": "8f01e8d8",
   "metadata": {},
   "outputs": [
    {
     "name": "stdout",
     "output_type": "stream",
     "text": [
      "9.848857801796104\n"
     ]
    }
   ],
   "source": [
    "print(np.sqrt(9**2+4**2))"
   ]
  },
  {
   "cell_type": "markdown",
   "id": "159dfa0f",
   "metadata": {},
   "source": [
    "## ToyMC for # of Observed Neutrons"
   ]
  },
  {
   "cell_type": "code",
   "execution_count": null,
   "id": "639f926b",
   "metadata": {},
   "outputs": [],
   "source": []
  },
  {
   "cell_type": "code",
   "execution_count": 4,
   "id": "6077e017",
   "metadata": {},
   "outputs": [
    {
     "name": "stdout",
     "output_type": "stream",
     "text": [
      "32.227\n",
      "4.096000000000001\n",
      "7.867919921874997\n"
     ]
    }
   ],
   "source": [
    "# FV Ratio\n",
    "print(3.5**3-2.2**3)\n",
    "print(1.6**3)\n",
    "print((3.5**3-2.2**3)/1.6**3)"
   ]
  }
 ],
 "metadata": {
  "kernelspec": {
   "display_name": "Python 3",
   "language": "python",
   "name": "python3"
  },
  "language_info": {
   "codemirror_mode": {
    "name": "ipython",
    "version": 3
   },
   "file_extension": ".py",
   "mimetype": "text/x-python",
   "name": "python",
   "nbconvert_exporter": "python",
   "pygments_lexer": "ipython3",
   "version": "3.10.11"
  }
 },
 "nbformat": 4,
 "nbformat_minor": 5
}
